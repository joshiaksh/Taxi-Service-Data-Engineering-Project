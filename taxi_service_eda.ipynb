{
 "cells": [
  {
   "cell_type": "code",
   "execution_count": null,
   "metadata": {},
   "outputs": [],
   "source": [
    "import pandas as pd\n",
    "pd.options.mode.chained_assignment = None \n",
    "df =pd.read_csv(\"/Users/mgkulkar/OneDrive/Akshata Study Material/Study/Data Engineering/uber_data.csv\")\n",
    "\n",
    "df.head()"
   ]
  },
  {
   "cell_type": "code",
   "execution_count": null,
   "metadata": {},
   "outputs": [],
   "source": [
    "df.info()\n"
   ]
  },
  {
   "cell_type": "code",
   "execution_count": 3,
   "metadata": {},
   "outputs": [],
   "source": [
    "df['tpep_pickup_datetime'] = pd.to_datetime(df['tpep_pickup_datetime'])\n",
    "df['tpep_dropoff_datetime'] = pd.to_datetime(df['tpep_dropoff_datetime'])"
   ]
  },
  {
   "cell_type": "code",
   "execution_count": null,
   "metadata": {},
   "outputs": [],
   "source": [
    "df.info()"
   ]
  },
  {
   "cell_type": "code",
   "execution_count": null,
   "metadata": {},
   "outputs": [],
   "source": [
    "df.drop_duplicates().reset_index(drop=True)"
   ]
  },
  {
   "cell_type": "code",
   "execution_count": null,
   "metadata": {},
   "outputs": [],
   "source": [
    "datetime = df[['tpep_pickup_datetime','tpep_dropoff_datetime']]\n",
    "\n",
    "datetime.loc[:,'pickup_hour'] = datetime['tpep_pickup_datetime'].dt.hour\n",
    "datetime.loc[:,'pickup_day'] = datetime['tpep_pickup_datetime'].dt.day\n",
    "datetime.loc[:,'pickup_weekday'] = datetime['tpep_pickup_datetime'].dt.weekday\n",
    "datetime.loc[:,'pickup_month'] = datetime['tpep_pickup_datetime'].dt.month\n",
    "datetime.loc[:,'pickup_year'] = datetime['tpep_pickup_datetime'].dt.year\n",
    "datetime\n",
    "\n"
   ]
  },
  {
   "cell_type": "code",
   "execution_count": null,
   "metadata": {},
   "outputs": [],
   "source": [
    "datetime.loc[:,'drop_hour'] = datetime['tpep_dropoff_datetime'].dt.hour\n",
    "datetime.loc[:,'drop_day'] = datetime['tpep_dropoff_datetime'].dt.day\n",
    "datetime.loc[:,'drop_weekday'] = datetime['tpep_dropoff_datetime'].dt.weekday\n",
    "datetime.loc[:,'drop_month'] = datetime['tpep_dropoff_datetime'].dt.month\n",
    "datetime.loc[:,'drop_year'] = datetime['tpep_dropoff_datetime'].dt.year\n",
    "\n",
    "datetime"
   ]
  },
  {
   "cell_type": "code",
   "execution_count": null,
   "metadata": {},
   "outputs": [],
   "source": [
    "datetime['datetime_id'] = datetime.index\n",
    "datetime = datetime[['datetime_id','tpep_pickup_datetime','pickup_hour','pickup_day','pickup_weekday','pickup_month','pickup_year',\n",
    "                    'tpep_dropoff_datetime','drop_hour','drop_day','drop_weekday','drop_month','drop_year']]\n",
    "\n",
    "datetime"
   ]
  },
  {
   "cell_type": "code",
   "execution_count": null,
   "metadata": {},
   "outputs": [],
   "source": [
    "passengers = df[['passenger_count']].reset_index()\n",
    "passengers['passenger_count_id'] = passengers.index\n",
    "passengers = passengers[['passenger_count_id','passenger_count']]\n",
    "\n",
    "passengers"
   ]
  },
  {
   "cell_type": "code",
   "execution_count": null,
   "metadata": {},
   "outputs": [],
   "source": [
    "tripdistance = df[['trip_distance']].reset_index()\n",
    "tripdistance['trip_distance_id'] = tripdistance.index\n",
    "\n",
    "tripdistance = tripdistance[['trip_distance_id','trip_distance']]\n",
    "tripdistance"
   ]
  },
  {
   "cell_type": "code",
   "execution_count": null,
   "metadata": {},
   "outputs": [],
   "source": [
    "rate_code_type = {\n",
    "    1: \"Standard Rate\",\n",
    "    2: \"JFK\",\n",
    "    3: \"Newark\",\n",
    "    4: \"Nissau or Westchester\",\n",
    "    5: \"Negotiated fare\",\n",
    "    6: \"Group ride\"\n",
    "}\n",
    "\n",
    "ratecode = df[['RatecodeID']].drop_duplicates().reset_index()\n",
    "ratecode['rate_code_id'] = ratecode.index\n",
    "ratecode['rate_code_name'] = ratecode['RatecodeID'].map(rate_code_type)\n",
    "ratecode = ratecode[['rate_code_id','RatecodeID','rate_code_name']]\n",
    "ratecode.head()"
   ]
  },
  {
   "cell_type": "code",
   "execution_count": null,
   "metadata": {},
   "outputs": [],
   "source": [
    "pickuplocation = df[['pickup_longitude','pickup_latitude']].drop_duplicates().reset_index()\n",
    "pickuplocation['pickup_location_id']= pickuplocation.index\n",
    "pickuplocation = pickuplocation[['pickup_location_id','pickup_longitude','pickup_latitude']]\n",
    "\n",
    "pickuplocation.head()\n"
   ]
  },
  {
   "cell_type": "code",
   "execution_count": null,
   "metadata": {},
   "outputs": [],
   "source": [
    "droplocation = df[['dropoff_longitude','dropoff_latitude']].drop_duplicates().reset_index()\n",
    "droplocation['dropoff_location_id']= droplocation.index\n",
    "droplocation = droplocation[['dropoff_location_id','dropoff_longitude','dropoff_latitude']]\n",
    "\n",
    "droplocation.head()"
   ]
  },
  {
   "cell_type": "code",
   "execution_count": null,
   "metadata": {},
   "outputs": [],
   "source": [
    "payment_type = {\n",
    "    1: \"Credit Card\",\n",
    "    2: \"Cash\",\n",
    "    3: \"No charge\",\n",
    "    4: \"Dispute\",\n",
    "    5: \"Unknown\",\n",
    "    6: \"Voided trip\"\n",
    "}\n",
    "\n",
    "paymenttype = df[['payment_type']].drop_duplicates().reset_index()\n",
    "paymenttype['payment_type_id'] = paymenttype.index\n",
    "paymenttype['payment_type_name'] = paymenttype['payment_type'].map(payment_type)\n",
    "paymenttype = paymenttype[['payment_type_id','payment_type','payment_type_name']]\n",
    "paymenttype.head()"
   ]
  },
  {
   "cell_type": "code",
   "execution_count": 24,
   "metadata": {},
   "outputs": [],
   "source": [
    "Taxifact = df.merge(paymenttype,on = 'payment_type')\\\n",
    "            .merge(tripdistance,on='trip_distance')\\\n",
    "            .merge(datetime,on = ['tpep_pickup_datetime','tpep_dropoff_datetime'])\\\n",
    "            .merge(pickuplocation, on =['pickup_longitude','pickup_latitude'])\\\n",
    "            .merge(droplocation,on = ['dropoff_longitude','dropoff_latitude'])\n"
   ]
  },
  {
   "cell_type": "code",
   "execution_count": null,
   "metadata": {},
   "outputs": [],
   "source": [
    "Taxifact = Taxifact[['VendorID','datetime_id','passenger_count','pickup_location_id','dropoff_location_id','payment_type_id','fare_amount','extra','mta_tax',\n",
    "                     'tip_amount','tolls_amount','improvement_surcharge','total_amount']]\n",
    "Taxifact"
   ]
  }
 ],
 "metadata": {
  "kernelspec": {
   "display_name": "Python 3",
   "language": "python",
   "name": "python3"
  },
  "language_info": {
   "codemirror_mode": {
    "name": "ipython",
    "version": 3
   },
   "file_extension": ".py",
   "mimetype": "text/x-python",
   "name": "python",
   "nbconvert_exporter": "python",
   "pygments_lexer": "ipython3",
   "version": "3.11.4"
  },
  "orig_nbformat": 4
 },
 "nbformat": 4,
 "nbformat_minor": 2
}
